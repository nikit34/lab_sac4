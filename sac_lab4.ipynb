{
 "cells": [
  {
   "cell_type": "markdown",
   "metadata": {},
   "source": [
    "# Лабораторная работа 4\n",
    "## Исследование функции (Wolfram)\n",
    "\n",
    "Для заданной формулой функции найти:\n",
    "1. Область определения функции.\n",
    "2. Является ли функция четной или нечетной, является ли периодической.\n",
    "3. Точки пересечения графика с осями координат.\n",
    "4. Промежутки знакопостоянства.\n",
    "5. Промежутки возрастания и убывания.\n",
    "6. Точки экстремума и значения в этих точках.\n",
    "7. Непрерывность. Наличие точек разрыва и их классификация.\n",
    "8. Асимптоты.\n",
    "\n",
    "Построить график функции, асимптоты, промежутки знакопостоянства.\n",
    "\n",
    "Вариант 7.\n",
    "Функция: $\\Large{\\frac{ln(x - 1)}{(x - 1)^2}}$"
   ]
  },
  {
   "cell_type": "code",
   "execution_count": 1,
   "metadata": {},
   "outputs": [
    {
     "data": {
      "text/html": [
       "<div><img alt=\"Output\" src=\"data:image/png;base64,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\"></div>"
      ],
      "text/plain": [
       "FormBox[FractionBox[RowBox[{\"log\", \"(\", RowBox[{\"x\", \"-\", \"1\"}], \")\"}], \n",
       "\n",
       " \n",
       ">       SuperscriptBox[RowBox[{\"(\", RowBox[{\"x\", \"-\", \"1\"}], \")\"}], \"2\"]],\\\n",
       " \n",
       ">    TraditionalForm]\n"
      ]
     },
     "execution_count": 2,
     "metadata": {
      "text/html": [],
      "text/plain": []
     },
     "output_type": "execute_result"
    }
   ],
   "source": [
    "f[y_] :=  Log[x - 1] / (x - 1)^2 /.x->y;\n",
    "f[x] //TraditionalForm"
   ]
  },
  {
   "cell_type": "markdown",
   "metadata": {},
   "source": [
    "### График функции"
   ]
  },
  {
   "cell_type": "code",
   "execution_count": 3,
   "metadata": {},
   "outputs": [
    {
     "data": {
      "text/html": [
       "<div><img alt=\"Output\" src=\"data:image/png;base64,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\"></div>"
      ],
      "text/plain": [
       "-Graphics-"
      ]
     },
     "execution_count": 3,
     "metadata": {
      "text/html": [],
      "text/plain": []
     },
     "output_type": "execute_result"
    }
   ],
   "source": [
    "plotFunc = Plot[\n",
    "            f[x], \n",
    "            {x, 1, 10}, \n",
    "            PlotRange->{{0, 10}, {-3, 1}}, \n",
    "            PlotStyle->{Thickness[.005]}, \n",
    "            ImageSize->Large\n",
    "        ]"
   ]
  },
  {
   "cell_type": "markdown",
   "metadata": {},
   "source": [
    "### Область определения\n",
    "\n",
    "$\\begin{aligned}\n",
    "\\begin{cases}\n",
    "   (x - 1)^2 \\neq 0, \n",
    "   \\\\\n",
    "   x - 1 > 0.\n",
    "\\end{cases}\n",
    "\\end{aligned} \\Rightarrow x > 1$"
   ]
  },
  {
   "cell_type": "markdown",
   "metadata": {},
   "source": [
    "### Чётность, периодичность\n",
    "\n",
    "Функция не является ни чётной, ни нечётной из-за несимметричной области определения. На всякий случай проверим это при помощи Wolfram."
   ]
  },
  {
   "cell_type": "code",
   "execution_count": 4,
   "metadata": {},
   "outputs": [
    {
     "data": {
      "text/html": [
       "<style>\n",
       "\t\t\t\t\t\t\t\t\t\t\t\t\t.grid-container {\n",
       "\t\t\t\t\t\t\t\t\t\t\t\t\t\tdisplay: inline-grid;\n",
       "\t\t\t\t\t\t\t\t\t\t\t\t\t\tgrid-template-columns: auto;\n",
       "\t\t\t\t\t\t\t\t\t\t\t\t\t}\n",
       "\t\t\t\t\t\t\t\t\t\t\t\t</style>\n",
       "\n",
       "\t\t\t\t\t\t\t\t\t\t\t\t<div><div class=\"grid-container\"><div class=\"grid-item\"><img alt=\"Output\" src=\"data:image/png;base64,iVBORw0KGgoAAAANSUhEUgAAACMAAAAPCAIAAADh1eFDAAAA0HpUWHRSYXcgcHJvZmlsZSB0eXBlIGV4aWYAAHjabU/BDQMhDPszRUeAJDgwDtfjpG7Q8WsO2uqqWiJxHCdA6M/HEW4DkmKw7AUViIRVq9JISpyYOcV6xhOiq5eueojH0hul/G2gL3276o61sPwukkl03ECutgbWIpWppzbrbfmllXJd9H7qgpXP0//X6oKM5MZoEt1RyUsgZUKWmB0H7gCNCbtEuzN3uHMMPhzaxuCAdL+6e4BS2McXdJykjdkYWXM0aSbPp56pbOzq6RnfeQFRpFqzMaWsZgAAAAlwSFlzAAALEwAACxMBAJqcGAAAADx0RVh0U29mdHdhcmUAQ3JlYXRlZCB3aXRoIHRoZSBXb2xmcmFtIExhbmd1YWdlIDogd3d3LndvbGZyYW0uY29tXKKmhQAAACF0RVh0Q3JlYXRpb24gVGltZQAyMDIxOjA0OjIwIDE1OjUxOjUwwBtbKgAAAOdJREFUOI3tVLsNgzAUfEQZBZqMYCaAiilMCXvQmBJPQWUmgAlQCswulwLzF5AQCaXINdZ7fufTnS1bAOgS3K6R+WGlIrQ6hMUppYF/eIiXAdCCfSxDRPdu4QqZd4b/PjbTmxo9yKpN3X7STdt109ABKD6hMaExhxaMuNquFZ+Vq57ixISG8TSOlpG9MOXE1a4l58GkPzfeNjVJ3/B9uZteEfq1cXf0AuyoBIAgH5PSz2qWTRnZW0ptUw+ayYEnAy+DFkzmBRF5Aa/iZHG7G0GPl8eE6PeX7rhaNsdzpm0mNGD9/70v8AIYid2Vd/0GYwAAAABJRU5ErkJggg==\"></div><div class=\"grid-item\"><img alt=\"Output\" src=\"data:image/png;base64,iVBORw0KGgoAAAANSUhEUgAAACMAAAAPCAIAAADh1eFDAAAA0HpUWHRSYXcgcHJvZmlsZSB0eXBlIGV4aWYAAHjabU/BDQMhDPszRUeAJDgwDtfjpG7Q8WsO2uqqWiJxHCdA6M/HEW4DkmKw7AUViIRVq9JISpyYOcV6xhOiq5eueojH0hul/G2gL3276o61sPwukkl03ECutgbWIpWppzbrbfmllXJd9H7qgpXP0//X6oKM5MZoEt1RyUsgZUKWmB0H7gCNCbtEuzN3uHMMPhzaxuCAdL+6e4BS2McXdJykjdkYWXM0aSbPp56pbOzq6RnfeQFRpFqzMaWsZgAAAAlwSFlzAAALEwAACxMBAJqcGAAAADx0RVh0U29mdHdhcmUAQ3JlYXRlZCB3aXRoIHRoZSBXb2xmcmFtIExhbmd1YWdlIDogd3d3LndvbGZyYW0uY29tXKKmhQAAACF0RVh0Q3JlYXRpb24gVGltZQAyMDIxOjA0OjIwIDE1OjUxOjUwwBtbKgAAAOdJREFUOI3tVLsNgzAUfEQZBZqMYCaAiilMCXvQmBJPQWUmgAlQCswulwLzF5AQCaXINdZ7fufTnS1bAOgS3K6R+WGlIrQ6hMUppYF/eIiXAdCCfSxDRPdu4QqZd4b/PjbTmxo9yKpN3X7STdt109ABKD6hMaExhxaMuNquFZ+Vq57ixISG8TSOlpG9MOXE1a4l58GkPzfeNjVJ3/B9uZteEfq1cXf0AuyoBIAgH5PSz2qWTRnZW0ptUw+ayYEnAy+DFkzmBRF5Aa/iZHG7G0GPl8eE6PeX7rhaNsdzpm0mNGD9/70v8AIYid2Vd/0GYwAAAABJRU5ErkJggg==\"></div></div></div>"
      ],
      "text/plain": [
       "False\n",
       "False"
      ]
     },
     "execution_count": 4,
     "metadata": {
      "text/html": [],
      "text/plain": []
     },
     "output_type": "execute_result"
    }
   ],
   "source": [
    "isEven = f[x] == f[-x] //TautologyQ\n",
    "isOdd = f[x] + f[-x] == 0 //TautologyQ"
   ]
  },
  {
   "cell_type": "markdown",
   "metadata": {},
   "source": [
    "Оба выражения ложны. Значит, функция действительно не является ни чётной, ни нечётной.\n",
    "\n",
    "Докажем отсутствие периодичности."
   ]
  },
  {
   "cell_type": "code",
   "execution_count": 6,
   "metadata": {},
   "outputs": [
    {
     "data": {
      "text/html": [
       "<div><pre style=\"&#102;&#111;&#110;&#116;&#45;&#102;&#97;&#109;&#105;&#108;&#121;&#58;&#32;&#34;&#67;&#111;&#117;&#114;&#105;&#101;&#114;&#32;&#78;&#101;&#119;&#34;&#44;&#67;&#111;&#117;&#114;&#105;&#101;&#114;&#44;&#109;&#111;&#110;&#111;&#115;&#112;&#97;&#99;&#101;&#59;\">&#48;</pre></div>"
      ],
      "text/plain": [
       "0"
      ]
     },
     "execution_count": 6,
     "metadata": {
      "text/html": [],
      "text/plain": []
     },
     "output_type": "execute_result"
    }
   ],
   "source": [
    "FunctionPeriod[f[x], x]"
   ]
  },
  {
   "cell_type": "markdown",
   "metadata": {},
   "source": [
    "Получили значение 0, значит периодичность отсутствует.\n",
    "\n",
    "### Точки пересечения графика с осями координат"
   ]
  },
  {
   "cell_type": "code",
   "execution_count": 7,
   "metadata": {},
   "outputs": [
    {
     "data": {
      "text/html": [
       "<div><pre style=\"&#102;&#111;&#110;&#116;&#45;&#102;&#97;&#109;&#105;&#108;&#121;&#58;&#32;&#34;&#67;&#111;&#117;&#114;&#105;&#101;&#114;&#32;&#78;&#101;&#119;&#34;&#44;&#67;&#111;&#117;&#114;&#105;&#101;&#114;&#44;&#109;&#111;&#110;&#111;&#115;&#112;&#97;&#99;&#101;&#59;\">&#123;&#123;&#50;&#44;&#32;&#48;&#125;&#125;</pre></div>"
      ],
      "text/plain": [
       "{{2, 0}}"
      ]
     },
     "execution_count": 8,
     "metadata": {
      "text/html": [],
      "text/plain": []
     },
     "output_type": "execute_result"
    }
   ],
   "source": [
    "sols = Solve[f[x]==0, x];\n",
    "points = {x, 0}/.sols"
   ]
  },
  {
   "cell_type": "code",
   "execution_count": 9,
   "metadata": {},
   "outputs": [
    {
     "data": {
      "text/html": [
       "<div><pre style=\"&#102;&#111;&#110;&#116;&#45;&#102;&#97;&#109;&#105;&#108;&#121;&#58;&#32;&#34;&#67;&#111;&#117;&#114;&#105;&#101;&#114;&#32;&#78;&#101;&#119;&#34;&#44;&#67;&#111;&#117;&#114;&#105;&#101;&#114;&#44;&#109;&#111;&#110;&#111;&#115;&#112;&#97;&#99;&#101;&#59;\">&#48;</pre></div>"
      ],
      "text/plain": [
       "0"
      ]
     },
     "execution_count": 9,
     "metadata": {
      "text/html": [],
      "text/plain": []
     },
     "output_type": "execute_result"
    }
   ],
   "source": [
    "f[2]"
   ]
  },
  {
   "cell_type": "markdown",
   "metadata": {},
   "source": [
    "Получили, что график пересекает ось абсцисс в точке $(2; 0)$. Пересечения с осью ординат отсутствуют из-за области определения функции.\n",
    "\n",
    "### Промежутки знакопостоянства\n",
    "\n",
    "Рассмотрим значения функции слева и справа от точки $(2; 0)$."
   ]
  },
  {
   "cell_type": "code",
   "execution_count": 10,
   "metadata": {},
   "outputs": [
    {
     "data": {
      "text/html": [
       "<div><pre style=\"&#102;&#111;&#110;&#116;&#45;&#102;&#97;&#109;&#105;&#108;&#121;&#58;&#32;&#34;&#67;&#111;&#117;&#114;&#105;&#101;&#114;&#32;&#78;&#101;&#119;&#34;&#44;&#67;&#111;&#117;&#114;&#105;&#101;&#114;&#44;&#109;&#111;&#110;&#111;&#115;&#112;&#97;&#99;&#101;&#59;\">&#45;&#48;&#46;&#49;&#51;&#48;&#48;&#55;&#53;</pre></div>"
      ],
      "text/plain": [
       "-0.130075"
      ]
     },
     "execution_count": 10,
     "metadata": {
      "text/html": [],
      "text/plain": []
     },
     "output_type": "execute_result"
    }
   ],
   "source": [
    "f[2-0.1]"
   ]
  },
  {
   "cell_type": "code",
   "execution_count": 11,
   "metadata": {},
   "outputs": [
    {
     "data": {
      "text/html": [
       "<div><pre style=\"&#102;&#111;&#110;&#116;&#45;&#102;&#97;&#109;&#105;&#108;&#121;&#58;&#32;&#34;&#67;&#111;&#117;&#114;&#105;&#101;&#114;&#32;&#78;&#101;&#119;&#34;&#44;&#67;&#111;&#117;&#114;&#105;&#101;&#114;&#44;&#109;&#111;&#110;&#111;&#115;&#112;&#97;&#99;&#101;&#59;\">&#48;&#46;&#48;&#55;&#56;&#55;&#54;&#56;&#55;</pre></div>"
      ],
      "text/plain": [
       "0.0787687"
      ]
     },
     "execution_count": 11,
     "metadata": {
      "text/html": [],
      "text/plain": []
     },
     "output_type": "execute_result"
    }
   ],
   "source": [
    "f[2+0.1]"
   ]
  },
  {
   "cell_type": "markdown",
   "metadata": {},
   "source": [
    "Слева от точки функция принимает отрицательные значения, справа - положительные.\n",
    "\n",
    "Следовательно, функция положительна при $x \\in (2; +\\infty)$, отрицательна при $x \\in (1; 2)$."
   ]
  },
  {
   "cell_type": "code",
   "execution_count": 12,
   "metadata": {},
   "outputs": [
    {
     "data": {
      "text/html": [
       "<div><img alt=\"Output\" src=\"data:image/png;base64,iVBORw0KGgoAAAANSUhEUgAAAWgAAABHCAIAAAClCkrVAAAAznpUWHRSYXcgcHJvZmlsZSB0eXBlIGV4aWYAAHjadU/bDQMhDPtnio6QFwmMw/Wo1A06fs1BpVKpli52jJNTUn89H+k2IEzJchSv7gRYtSoNotDEZKZ61QteluLdTxZTcIOVvwb68o/dD58s5WcRyRQ6/gCttgbWIpXpc5v9sfLSStkXKW2wz1n8p9cQz85hqCYU4RW6JEiQZ6Ec/vC7O4Lsp5Ddwd0jMOYxEtrG4ID02NM9ucI4xwk6PtYGNlT0GGXN0PnyUeXAq16Zcc4bJVRak+e0RmMAAAAJcEhZcwAACxMAAAsTAQCanBgAAAA8dEVYdFNvZnR3YXJlAENyZWF0ZWQgd2l0aCB0aGUgV29sZnJhbSBMYW5ndWFnZSA6IHd3dy53b2xmcmFtLmNvbVyipoUAAAAhdEVYdENyZWF0aW9uIFRpbWUAMjAyMTowNDoyMCAxNTo1MTo1Mbcca7wAAALPSURBVHic7d3RVdswFAZgqad7IG/iTALMwADQvjNDwiQxk8RMoj4EKATH5Pa0sYu/78kHnQPXMv5jSbaTa60JIOLb1AUA/x/BAYQJDiBMcABhggMIExxAmOAAwgQHECY4gDDBAYQJDiBMcABhggMI+z51AczR/f39fuPm5mbaSpin7LF6Pso57zf8ezDIUAUIExxAmOAAwgQHECY4gLApl2Nf1/xOZ3Xwrxs/CoOtjgJTLse+rvmdzurgX+co8AcMVYCwKYcqT09PE/519gaPwsXFxUgruHOUAe4cZZyhChAmOIAwwQGECQ4gTHAAYV7kwwCrsIyzHAuEGaoAYYIDCBMcQJjgAMIEBxAmOIAwwQGEHQmOvj9rFTOkB+C498Gx2dSmSTmnpqlNk378mKiq6XRdXa1ee6BeX0sQ+Oj3naN1tcpdd9BcS8nbbSrlzGVNY7NJ19cHP6ul5PU6te0UBcFMvQTH0DmzV0vJu91Zi5pE16XVarBlKT0AJ3seqtTjo5Lc9+nDlcjX80kPbDZnrAXm7vnp2Dw6ku8fHsaav4R2NBzrw8PjQsZr8EZ7ZJD+PaX06QXFrut+fvU5wna0tev7nwucKmbZSinHgiPXWlPfp6YZ+wXrdbq6+geFzUhtmpHLrnp1ldfrM5YDs/YtpZRKqeOrBktYUxjdx3x5ea464D/wPDk69nF6d7eE5dh8e1uP7GZt20VEJ5zs5QawUtJuN3Dm3N2l29vzljSRUvJ2+7EHatvm7XaKgmC+3r86sO9T19XHx5RSLiVdXi7hWuMdPQAn8M5RIMzTsUCY4ADCBAcQJjiAMMEBhAkOIExwAGHDwZFzPnMd85FfTF0IzNfAt9Uv+ZzJ+fcdcW+3gbcOrzgWfrYsed/hdIfB4czZW3iAwjiTowOkBowTHIekBnxqYHJ0yfYTw6/TwxIEBvl0BcIMVYAwwQGECQ4g7BeRDdFdDX+jAAAAAABJRU5ErkJggg==\"></div>"
      ],
      "text/plain": [
       "-Graphics-"
      ]
     },
     "execution_count": 12,
     "metadata": {
      "text/html": [],
      "text/plain": []
     },
     "output_type": "execute_result"
    }
   ],
   "source": [
    "Show[\n",
    "    Graphics[Line[{{1, 0}, {5, 0}}]],\n",
    "    Graphics[{PointSize[0.03], Point[{1, 0}, VertexColors->Red]}],\n",
    "    Graphics[Text[1, {1, -0.2}]],\n",
    "    Graphics[{PointSize[0.03], Point[{2, 0}, VertexColors->Red]}],\n",
    "    Graphics[Text[2, {2, -0.2}]],\n",
    "    Graphics[Text[Style[\"-\", FontSize -> Scaled[0.1]], {1.5, 0.3}]],\n",
    "    Graphics[Text[Style[\"+\", FontSize -> Scaled[0.1]], {3, 0.3}]]\n",
    "]"
   ]
  },
  {
   "cell_type": "markdown",
   "metadata": {},
   "source": [
    "### Промежутки возрастания и убывания. Точки экстремума\n",
    "\n",
    "Найдём точки, производная в которых равна нулю."
   ]
  },
  {
   "cell_type": "code",
   "execution_count": 13,
   "metadata": {},
   "outputs": [
    {
     "data": {
      "text/html": [
       "<div><img alt=\"Output\" src=\"data:image/png;base64,iVBORw0KGgoAAAANSUhEUgAAAKYAAAAlCAIAAABHzgVWAAAAz3pUWHRSYXcgcHJvZmlsZSB0eXBlIGV4aWYAAHjabU/RbUQhDPtnihshJMGBcXh3nNQNOv6ZB2pFVUskjuMESOP7650eE5oleYmKBgjhzZt2kioLK2dpd7zRsXv51JOWrXdK5beBsfXr1GMv0vpnkegiNm8gN98De5Hp0nNf9bX92ms9F5kc8Prz9P9rC0VBDmd0lQg08ppImVBUSuCNJ0BjxkvFn8wDERxDTIf1OTihI073SDAKr/kFmydbZ3ZG1hzNVsjLrTPqxa7dnvmdD1rnWreX3JcZAAAACXBIWXMAAAsTAAALEwEAmpwYAAAAPHRFWHRTb2Z0d2FyZQBDcmVhdGVkIHdpdGggdGhlIFdvbGZyYW0gTGFuZ3VhZ2UgOiB3d3cud29sZnJhbS5jb21coqaFAAAAIXRFWHRDcmVhdGlvbiBUaW1lADIwMjE6MDQ6MjAgMTU6NTE6NTG3HGu8AAADgElEQVR4nO2bP5aqMBTGL++8BcwiAsUcVwAriDZT2dqRUhq7KaaYbhpSamc71TSSFegKPBbk7iWvUN8ghpmARjTwq+bIhNx8Hwn5c/GUUtBzbRARgBByjxH8sVcnjzzP85iwVkMzDnF5nhdx1FzU/FoXIWT9gK4vlFxpm2LJcsG8CSxlGtq5fXOQT3avSimlZArJ5HJ7KyCGXdyaUNX1W7KcztV62uKwVgmZrud0/1cwgM3OqDt+DwyFviiYV6Dp2GAmFAqhvb1ghZAEMwvD3sB+72C+hfiF/v5/PPI/x/IwMmyHe1UFG27T/Y9ZDGG6tPqAyzzX/k7nKosXQyaOAZn0s7/Xju5BEMxPBpkycHz1uYlf13slyfQ1Tr4kQG1/EYvdr8bE7lhQImoL0rlMI9/zIM6U2WPXRcuRR34yyNT8d8MroS/xcOh7CQBAmMr5z2IjSnnyCjH1/FAw3+0gCKoLhmG4MbofQActr+s3GY3D5J3P6JQAIH9fhOMZAPL3bSoNuxUAIbTZgu1YMM99SrV3EMz/HMv1aBX5ETca2EFZIYtPa4kzO/XU5WxqXAqsdP1w9bs14eH9XW7h6W2yzLi5ZkJl6f96z0ofQ5JpWIyvupQly10ni4vuZHFJa3PLbVJheXdn7NdDfC1gENzjklSLp/oN1yYgj/zkOGUKS6sjRCElQNXr9wb8FEFveefoB/bO0VveOQ7r8re3t1bDqEeSJE9PTw0KPlYzr0hRMZfe5Y03NbuFO7tvjTc1u4ZLvbzHiH761jkexHIULIqiKGL6VIEucbEUjzWwI48+gvUlh57O0FyKB+nlAACI4mM3MMhjcZ+LpNBaLrhpJpeV7EzBdbdDKeEZtl+3zZh1UAqN5chzGJmsb2xlZ9Ig17SUUEqns/FNPXdSinPLcbULzLI9rGVn0hGUWoOcMcYYm+zGs9uN7I5KUT5Al2la73xfpuGPSS9VGR3qO9GgnGLQIAobOCrF2e6bBPDLD+ftszNJACuE1o6b9zgqxe8brneVndkubkhxZrkPcJqn3Up2JuYQtL4ac1SKs+kbCSA3XJbsP9Hxkw0shvXXJ4J5w226nBIg02UKiV/8uEYzpt4eV6XQTjJanjrdxeRNKUel0KzL6QjyVr8QFisYtT6qA4CjUuj32BGxvdPmVis/wz0pHutYpecKPNCxSs916C3vHP8AktU3f5yC9UwAAAAASUVORK5CYII=\"></div>"
      ],
      "text/plain": [
       "        -3   2 Log[-1 + x]\n",
       "(-1 + x)   - -------------\n",
       "                       3\n",
       "               (-1 + x)"
      ]
     },
     "execution_count": 13,
     "metadata": {
      "text/html": [],
      "text/plain": []
     },
     "output_type": "execute_result"
    }
   ],
   "source": [
    "df = D[f[x], x]"
   ]
  },
  {
   "cell_type": "code",
   "execution_count": 14,
   "metadata": {},
   "outputs": [
    {
     "data": {
      "text/html": [
       "<div><img alt=\"Output\" src=\"data:image/png;base64,iVBORw0KGgoAAAANSUhEUgAAAGMAAAATCAIAAAALeyQDAAAA0HpUWHRSYXcgcHJvZmlsZSB0eXBlIGV4aWYAAHjabU/bjQMhEPuniiuBeeCBctiESNfBlX9mIVE2iiXGHs8DSOPv95F+JlRy8hIVDciEN2/aKWpeWCy5nfEEbNfk6ifZBem0ytvA2P5x9QOLtX4syrqEzRuozffAXmS6fOkrP3a/9lqvi55P3fD6evr33EJRIOGMrjkCjbomShKK5hJ44AawUXDX7DfyQATHELPD+hyc0BHX7pFgNO7zCzaPWCc7I3OOihXqcvqMerBqZ8/8zj8S3VqGXz4NOwAAAAlwSFlzAAALEwAACxMBAJqcGAAAADx0RVh0U29mdHdhcmUAQ3JlYXRlZCB3aXRoIHRoZSBXb2xmcmFtIExhbmd1YWdlIDogd3d3LndvbGZyYW0uY29tXKKmhQAAACF0RVh0Q3JlYXRpb24gVGltZQAyMDIxOjA0OjIwIDE1OjUxOjUxtxxrvAAAArRJREFUWIXtmK9z6kAQx/c6FZHIOiqSiKrKThDFBkz+g1ZxdVCBq8A/wUUxqWpd5xlqyP0FdJAVTKaTO1GJaxy4PMGvvNxe+VHelMf0o8J3j93L3mbZQNI0hQxSgmmCik7fQ5Ikub29LRaLqNXzvPPz8238pktCVguFSBV0+p7S7XY/Pj7WWipCVmPInWH60TJnHOzARQpHp+8r7+/vhUJhraWmW/egJ9fSj5RVP+B8b6akXyKEEMp35jFJknULakO+MVOckit4FMzZpdPBYFAul3fpcc7mmeI0UwWcElLy1Qc9g+Q+XjJukPbrK9uf5PxT9zne3t5OT08XkWmpVCpR+vkO12PzTLlBGtbuK5QDcFoZMrHidk23ClSTrDUQcaw3JknSarVGo5Fqkj7txQB3/X4/CKriCzuYMc+U5H4MLhIQ091AsGGFkAqEWJpkDrCadrzFVqdfBhDzC4Wnp6fr6+uHh4fpx8lkYhgGAADwHjTtKPKs2Q68KNZUtg2/sKpV9OPZpkQMdhXZrEYHAMdxXlCDFELktTiCCCS4G8wacuonjiKwbQAAU51Ubm5uAKBQKIxGo5OTk8FgcHFxsTSfnS0uraau8i0bej1p1fPeFX05bTEWotOZqoc1cJhIBXPAwQY31QU6381sDtTQwLNYbGWE8XjcaDTSNO10OtmQmrEyHx9fo+jLPmVOT04hr3NKKkP2WDfBrD8yaFirO3qvGiAnyikhhFiNF7ivfGlWMAyjWCy+vr5OJpPFruuBHUfD31fU55z7lFLND4NS/lo9c3ohfrQ6fZ+YllW73c4bhBCfv4jpalbRj7c8xz3DMIzLy0tk5kSa25YcSKYAwPO8zNO3ew7qvW8+IvwTMpmy4me0N+v0Q0DyZ7CR5xPTc/0vDLH+ptP/bza7W5L+/Z/nDzr+ABOfbLMjxplwAAAAAElFTkSuQmCC\"></div>"
      ],
      "text/plain": [
       "{{x -> 1 + Sqrt[E]}}"
      ]
     },
     "execution_count": 14,
     "metadata": {
      "text/html": [],
      "text/plain": []
     },
     "output_type": "execute_result"
    }
   ],
   "source": [
    "Solve[df == 0, x]"
   ]
  },
  {
   "cell_type": "markdown",
   "metadata": {},
   "source": [
    "Нашли одну точку экстремума: $x = \\sqrt{e} + 1$. Определим знак производной слева и справа от нее."
   ]
  },
  {
   "cell_type": "code",
   "execution_count": 15,
   "metadata": {},
   "outputs": [
    {
     "data": {
      "text/html": [
       "<div><img alt=\"Output\" src=\"data:image/png;base64,iVBORw0KGgoAAAANSUhEUgAAACsAAAAPCAIAAADyAqG3AAAAz3pUWHRSYXcgcHJvZmlsZSB0eXBlIGV4aWYAAHjabU/RbQUhDPtnio4QkuDAONx7nNQNOn7NgVpR1RKJ4zgB0vj6vNPHhGZJXqKiAUJ486adpMrCylnaEx/otXv51JPcW++Uym8DY+vXqQf2wvp3kS5i8wZy8z2wF5kuPfdVX9uvvdZzkckBrz9P/7+2UBTkcEZXiUAjr4mUCUWlBG68ABoz3ir+Yh6I4BhiOqzPwQkdcbpHglF4zy/YPNk6szOy5mi2Ql4evZjqxa49nvmdb5b7WuSClyKdAAAACXBIWXMAAAsTAAALEwEAmpwYAAAAPHRFWHRTb2Z0d2FyZQBDcmVhdGVkIHdpdGggdGhlIFdvbGZyYW0gTGFuZ3VhZ2UgOiB3d3cud29sZnJhbS5jb21coqaFAAAAIXRFWHRDcmVhdGlvbiBUaW1lADIwMjE6MDQ6MjAgMTU6NTE6NTIuFToGAAABlklEQVQ4jbVVq3LCQBQ926mIjMQFQRAoJEME2LYmfwCKxRUEroI/IFEMVdQxNSjIF9CJRHQyTHYFMo51xG1FmtIhoQlTctQm97Fn7uMskVKiGAghhsOhpmmpVtM06/U6AMjCsFwuD4dDpttdQQUAsN/vVVXNdCuQQU5EDLhtEEIIdW6WVwiRpwARA4eSDt6Y1bzZ9QBc12232zkZPMzk5rmS5cgdh1/BYLfblcvlONSmhmEYlNopKXLPAfP9y0YhxHg8DoIgaeI2XfnAy2azmc2eGLXPO52HAeeccwAsPiSwWCy63e58Po8+wzBUFAUA4KwwqnqeqUexuun5ZxTuc9zPGAN8z0O1CgCVSqJl/X4fgKqqQRCUSiXXdRuNxslcq/0c9VGi4bEwMKuJ3vqycKwti2Voy/F4HAwGUsrpdHpK27PWVu+P2GgXCCH64AOvj//aSUVRNE3bbrdhGMb/Ks+zqu99vneo7TiOTSlNDHSmal6FqAyTyeTcwBhj6XXInoNry9BqtVK0KGV4vkFkAW/jr13Ixhdi+/c04cQGvwAAAABJRU5ErkJggg==\"></div>"
      ],
      "text/plain": [
       "1 + Sqrt[E]"
      ]
     },
     "execution_count": 15,
     "metadata": {
      "text/html": [],
      "text/plain": []
     },
     "output_type": "execute_result"
    }
   ],
   "source": [
    "extremum = Exp[1/2] + 1"
   ]
  },
  {
   "cell_type": "code",
   "execution_count": 16,
   "metadata": {},
   "outputs": [
    {
     "data": {
      "text/html": [
       "<div><img alt=\"Output\" src=\"data:image/png;base64,iVBORw0KGgoAAAANSUhEUgAAABcAAAAhCAIAAAC9a6dHAAAAz3pUWHRSYXcgcHJvZmlsZSB0eXBlIGV4aWYAAHjabU/RbUQhDPtnio4QkuDAOLw7TuoGHb/mQVtRXSRix3ECpPH1+UofMzRL8hIVDRCGN2/aSaqsWJil3XkVsXv51JP+GDql8tfA2Pp16oGFWv8tEl3E5g3k5ntgLzJdeu6rvrZfe63nIpMjvP4+/X1toSjI4cyuEoFGXhMpAUWlBF54ADRmPFX8QRyI4BhiOqzPwRk64nSPBKPwnF+webJ1ojOz5mi2Ql5uvZjqxa7dnvmdbxAQWoU2s0IPAAAACXBIWXMAAAsTAAALEwEAmpwYAAAAPHRFWHRTb2Z0d2FyZQBDcmVhdGVkIHdpdGggdGhlIFdvbGZyYW0gTGFuZ3VhZ2UgOiB3d3cud29sZnJhbS5jb21coqaFAAAAIXRFWHRDcmVhdGlvbiBUaW1lADIwMjE6MDQ6MjAgMTU6NTE6NTIuFToGAAABDklEQVRIie2VsXHDMAxFoZwH0BBiCp0noCdQKm+QDi7Fxr1GgEuXGcLQBFmBhYldmIJyQkmkHV2aRJffiKcDH3Efx0/wWTnSAADI+ZKbniCt/lC8wtsAeqgcpTn797b6FuIOZZnWR4HM7BjHZffnXXjvf97Kb/JlfZRN+HRdt3SnMaYsy7D+n/SfoshpVwTtTrIQEyX+cPsdadDkHif/l1L5wpjME8eEWmuNODsiQXGk5xBHSES3bhlpVDBztz8os+VzM/l7geOztXslIiKg9vbap90N/r4A+yljUF1/LtWxjWs2MUKZbQahwF6gtldom+RTF5kx0syZ4C0SMxMicuzwwjstIgBVNe1nfcnwAcf0kMCMnVCmAAAAAElFTkSuQmCC\"></div>"
      ],
      "text/plain": [
       " 1\n",
       "---\n",
       "2 E"
      ]
     },
     "execution_count": 16,
     "metadata": {
      "text/html": [],
      "text/plain": []
     },
     "output_type": "execute_result"
    }
   ],
   "source": [
    "f[extremum]"
   ]
  },
  {
   "cell_type": "code",
   "execution_count": 17,
   "metadata": {},
   "outputs": [
    {
     "data": {
      "text/html": [
       "<div><pre style=\"&#102;&#111;&#110;&#116;&#45;&#102;&#97;&#109;&#105;&#108;&#121;&#58;&#32;&#34;&#67;&#111;&#117;&#114;&#105;&#101;&#114;&#32;&#78;&#101;&#119;&#34;&#44;&#67;&#111;&#117;&#114;&#105;&#101;&#114;&#44;&#109;&#111;&#110;&#111;&#115;&#112;&#97;&#99;&#101;&#59;\">&#45;&#48;&#46;&#48;&#50;&#50;&#48;&#50;&#50;&#56;</pre></div>"
      ],
      "text/plain": [
       "-0.0220228"
      ]
     },
     "execution_count": 17,
     "metadata": {
      "text/html": [],
      "text/plain": []
     },
     "output_type": "execute_result"
    }
   ],
   "source": [
    "df/.x->(extremum + 0.1)"
   ]
  },
  {
   "cell_type": "code",
   "execution_count": 18,
   "metadata": {},
   "outputs": [
    {
     "data": {
      "text/html": [
       "<div><pre style=\"&#102;&#111;&#110;&#116;&#45;&#102;&#97;&#109;&#105;&#108;&#121;&#58;&#32;&#34;&#67;&#111;&#117;&#114;&#105;&#101;&#114;&#32;&#78;&#101;&#119;&#34;&#44;&#67;&#111;&#117;&#114;&#105;&#101;&#114;&#44;&#109;&#111;&#110;&#111;&#115;&#112;&#97;&#99;&#101;&#59;\">&#48;&#46;&#48;&#51;&#51;&#54;&#56;&#56;&#51;</pre></div>"
      ],
      "text/plain": [
       "0.0336883"
      ]
     },
     "execution_count": 18,
     "metadata": {
      "text/html": [],
      "text/plain": []
     },
     "output_type": "execute_result"
    }
   ],
   "source": [
    "df/.x->(extremum - 0.1)"
   ]
  },
  {
   "cell_type": "markdown",
   "metadata": {},
   "source": [
    "Производная слева положительная, а справа - отрицательная. Значит $\\large{(\\sqrt{e} + 1; \\frac{1}{2e})}$ - точка максимума.\n",
    "\n",
    "Функция возрастает при $x \\in (1; \\sqrt{e} + 1)$, убывает при $x \\in (\\sqrt{e} + 1; + \\infty)$."
   ]
  },
  {
   "cell_type": "code",
   "execution_count": 19,
   "metadata": {},
   "outputs": [
    {
     "data": {
      "text/html": [
       "<div><img alt=\"Output\" src=\"data:image/png;base64,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\"></div>"
      ],
      "text/plain": [
       "-Graphics-"
      ]
     },
     "execution_count": 19,
     "metadata": {
      "text/html": [],
      "text/plain": []
     },
     "output_type": "execute_result"
    }
   ],
   "source": [
    "Show[\n",
    "    Graphics[Line[{{1, 0}, {5, 0}}]],\n",
    "    Graphics[{PointSize[0.03], Point[{1, 0}, VertexColors->Red]}],\n",
    "    Graphics[Text[1, {1, -0.2}]],\n",
    "    Graphics[{PointSize[0.03], Point[{2, 0}, VertexColors->Red]}],\n",
    "    Graphics[Text[Sqrt[e]+1, {2, -0.2}]],\n",
    "    Graphics[Arrow[{{Exp[0.5] / 2 + 0.5, 0.1}, {Exp[0.5] / 2 + 0.8, 0.3}}]],\n",
    "    Graphics[Arrow[{{3, 0.3}, {3.5, 0.1}}]]\n",
    "]"
   ]
  },
  {
   "cell_type": "markdown",
   "metadata": {},
   "source": [
    "### Непрерывность\n",
    "\n",
    "Функция непрерывна на всей области определения."
   ]
  },
  {
   "cell_type": "markdown",
   "metadata": {},
   "source": [
    "### Асимптоты\n",
    "\n",
    "Найдём горизонтальную асимптоту:"
   ]
  },
  {
   "cell_type": "code",
   "execution_count": 20,
   "metadata": {},
   "outputs": [
    {
     "data": {
      "text/html": [
       "<div><pre style=\"&#102;&#111;&#110;&#116;&#45;&#102;&#97;&#109;&#105;&#108;&#121;&#58;&#32;&#34;&#67;&#111;&#117;&#114;&#105;&#101;&#114;&#32;&#78;&#101;&#119;&#34;&#44;&#67;&#111;&#117;&#114;&#105;&#101;&#114;&#44;&#109;&#111;&#110;&#111;&#115;&#112;&#97;&#99;&#101;&#59;\">&#48;</pre></div>"
      ],
      "text/plain": [
       "0"
      ]
     },
     "execution_count": 20,
     "metadata": {
      "text/html": [],
      "text/plain": []
     },
     "output_type": "execute_result"
    }
   ],
   "source": [
    "Limit[f[x], x->Infinity]"
   ]
  },
  {
   "cell_type": "markdown",
   "metadata": {},
   "source": [
    "Значит, $y = 0$ - горизонтальная асимптота.\n",
    "\n",
    "Найдём вертикальную асимптоту:"
   ]
  },
  {
   "cell_type": "code",
   "execution_count": 21,
   "metadata": {},
   "outputs": [
    {
     "data": {
      "text/html": [
       "<div><img alt=\"Output\" src=\"data:image/png;base64,iVBORw0KGgoAAAANSUhEUgAAABIAAAAPCAIAAABm5AhFAAAAz3pUWHRSYXcgcHJvZmlsZSB0eXBlIGV4aWYAAHjabU/RbQUhDPtnio4QkuDAONx7nNQNOn7NgVpRNRKx4zgB0vj6vNPHDM2SvERFA4ThzZt2kiorFmZpT16F7l4+9ST31jul8tvA2Pp16oGFWv8u2jfYvIHcfA/sRaZLz33V1/Zrr/VcZHKE15+n/19bKApyOLOrRKCR10RKQFEpgRsvgMaMt4q/iAMRHENMh/U5OENHnO6RYBTe8ws2T7ZOdGbWHM1WyMujF1O92LXHM7/zDU7RWrM7WpEoAAAACXBIWXMAAAsTAAALEwEAmpwYAAAAPHRFWHRTb2Z0d2FyZQBDcmVhdGVkIHdpdGggdGhlIFdvbGZyYW0gTGFuZ3VhZ2UgOiB3d3cud29sZnJhbS5jb21coqaFAAAAIXRFWHRDcmVhdGlvbiBUaW1lADIwMjE6MDQ6MjAgMTU6NTE6NTIuFToGAAAAkUlEQVQoke2SMQ7CMAxFf1GPknjgKllyChg5SJd07C2yxL2LnbuYJUUgtUEwMPGmL1tf35Y9mBk+5/SF52/bY+x21/kqFEkkgyKyUCTJQssNZmamL1hDU+KHvKStzinpCKBWVX0Occ415XdG8IAOvS+p61wQgkeZCs4AheC1TBIW2BtUmbfxlLmt0E075rd3uwNTb4hc0wrD7AAAAABJRU5ErkJggg==\"></div>"
      ],
      "text/plain": [
       "-Infinity"
      ]
     },
     "execution_count": 21,
     "metadata": {
      "text/html": [],
      "text/plain": []
     },
     "output_type": "execute_result"
    }
   ],
   "source": [
    "Limit[f[x], x->1]"
   ]
  },
  {
   "cell_type": "markdown",
   "metadata": {},
   "source": [
    "В точке $x = 1$ функция стремится к бесконечности, значит $x = 1$ - вертикальная асимптота.\n",
    "\n",
    "Найдём наклонную асимптоту."
   ]
  },
  {
   "cell_type": "code",
   "execution_count": 22,
   "metadata": {},
   "outputs": [
    {
     "data": {
      "text/html": [
       "<div><pre style=\"&#102;&#111;&#110;&#116;&#45;&#102;&#97;&#109;&#105;&#108;&#121;&#58;&#32;&#34;&#67;&#111;&#117;&#114;&#105;&#101;&#114;&#32;&#78;&#101;&#119;&#34;&#44;&#67;&#111;&#117;&#114;&#105;&#101;&#114;&#44;&#109;&#111;&#110;&#111;&#115;&#112;&#97;&#99;&#101;&#59;\">&#48;</pre></div>"
      ],
      "text/plain": [
       "0"
      ]
     },
     "execution_count": 22,
     "metadata": {
      "text/html": [],
      "text/plain": []
     },
     "output_type": "execute_result"
    }
   ],
   "source": [
    "Limit[f[x] / x, x->Infinity]"
   ]
  },
  {
   "cell_type": "markdown",
   "metadata": {},
   "source": [
    "Полученный предел равен 0, значит наклонных асимптот нет.\n",
    "\n",
    "Построим график и его асимптоты."
   ]
  },
  {
   "cell_type": "code",
   "execution_count": 23,
   "metadata": {},
   "outputs": [],
   "source": [
    "plotAsympt1 = Plot[\n",
    "                0, \n",
    "                {x, 0, 10}, \n",
    "                PlotStyle->{Red, Thickness[0.005]}, \n",
    "                ImageSize->Large\n",
    "            ];"
   ]
  },
  {
   "cell_type": "code",
   "execution_count": 24,
   "metadata": {},
   "outputs": [],
   "source": [
    "plotAsympt2 = Graphics[Line[{{1, -5}, {1, 1}}], ImageSize->Large];"
   ]
  },
  {
   "cell_type": "code",
   "execution_count": 25,
   "metadata": {},
   "outputs": [
    {
     "data": {
      "text/html": [
       "<div><img alt=\"Output\" src=\"data:image/png;base64,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\"></div>"
      ],
      "text/plain": [
       "-Graphics-"
      ]
     },
     "execution_count": 25,
     "metadata": {
      "text/html": [],
      "text/plain": []
     },
     "output_type": "execute_result"
    }
   ],
   "source": [
    "Show[\n",
    "    plotFunc,\n",
    "    plotAsympt1,\n",
    "    plotAsympt2\n",
    "]"
   ]
  }
 ],
 "metadata": {
  "kernelspec": {
   "display_name": "Wolfram Language 12.2",
   "language": "Wolfram Language",
   "name": "wolframlanguage12.2"
  },
  "language_info": {
   "codemirror_mode": "mathematica",
   "file_extension": ".m",
   "mimetype": "application/vnd.wolfram.m",
   "name": "Wolfram Language",
   "pygments_lexer": "mathematica",
   "version": "12.0"
  }
 },
 "nbformat": 4,
 "nbformat_minor": 4
}
